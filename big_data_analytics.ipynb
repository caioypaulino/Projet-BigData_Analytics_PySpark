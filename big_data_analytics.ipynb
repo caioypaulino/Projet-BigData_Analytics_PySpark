{
 "cells": [
  {
   "cell_type": "code",
   "outputs": [],
   "source": [
    "# importando bibliotecas\n",
    "import time\n",
    "import pandas as pd\n",
    "import matplotlib.pyplot as plt\n",
    "import seaborn as sns\n",
    "import matplotlib.ticker as ticker\n",
    "\n",
    "from pyspark.sql import (SparkSession)\n",
    "from pyspark.sql.types import StructType, StructField, StringType, DoubleType, IntegerType, DateType\n",
    "from pyspark.sql.functions import col, sum, countDistinct, count, isnan, when, regexp_replace, split, month, year, size, element_at, struct, trim, avg, expr, lit\n",
    "from pyspark.sql import functions as F\n",
    "from pyspark.sql.window import Window"
   ],
   "metadata": {
    "collapsed": false,
    "ExecuteTime": {
     "end_time": "2024-02-17T00:48:01.088186700Z",
     "start_time": "2024-02-17T00:48:01.024188700Z"
    }
   },
   "id": "93f09866d2aa681d",
   "execution_count": 97
  },
  {
   "cell_type": "markdown",
   "source": [
    "## Operações Básicas com PySpark"
   ],
   "metadata": {
    "collapsed": false
   },
   "id": "fd770f58ab9e1ca6"
  },
  {
   "cell_type": "code",
   "outputs": [],
   "source": [
    "# Criando SparkSession\n",
    "spark = (SparkSession.builder\n",
    "         .appName(\"AmazonElectronics\")\n",
    "         .getOrCreate())"
   ],
   "metadata": {
    "collapsed": false,
    "ExecuteTime": {
     "end_time": "2024-02-17T00:48:01.089187500Z",
     "start_time": "2024-02-17T00:48:01.047258300Z"
    }
   },
   "id": "9c467bc275e2ace8",
   "execution_count": 98
  },
  {
   "cell_type": "code",
   "outputs": [],
   "source": [
    "# Definindo Schema\n",
    "schema = StructType([\n",
    "    StructField(\"timestamp\", DateType(), True),\n",
    "    StructField(\"asin\", StringType(), True),\n",
    "    StructField(\"brand\", StringType(), True),\n",
    "    StructField(\"buybox_seller\", StringType(), True),\n",
    "    StructField(\"final_price\", StringType(), True),\n",
    "    StructField(\"number_of_sellers\", IntegerType(), True),\n",
    "    StructField(\"root_bs_rank\", IntegerType(), True),\n",
    "    StructField(\"reviews_count\", IntegerType(), True),\n",
    "    StructField(\"currency\", StringType(), True),\n",
    "    StructField(\"image_url\", StringType(), True),\n",
    "    StructField(\"images_count\", IntegerType(), True),\n",
    "    StructField(\"title\", StringType(), True),\n",
    "    StructField(\"url\", StringType(), True),\n",
    "    StructField(\"video_count\", IntegerType(), True),\n",
    "    StructField(\"categories\", StringType(), True),\n",
    "    StructField(\"item_weight\", StringType(), True),\n",
    "    StructField(\"rating\", DoubleType(), True),\n",
    "    StructField(\"seller_id\", StringType(), True),\n",
    "    StructField(\"availability\", StringType(), True),\n",
    "    StructField(\"product_dimensions\", StringType(), True),\n",
    "    StructField(\"discount\", StringType(), True),\n",
    "    StructField(\"initial_price\", StringType(), True),\n",
    "    StructField(\"description\", StringType(), True),\n",
    "    StructField(\"image\", StringType(), True),\n",
    "    StructField(\"answered_questions\", IntegerType(), True),\n",
    "    StructField(\"date_first_available\", StringType(), True),\n",
    "    StructField(\"model_number\", StringType(), True),\n",
    "    StructField(\"manufacturer\", StringType(), True),\n",
    "    StructField(\"department\", StringType(), True),\n",
    "    StructField(\"plus_content\", StringType(), True),\n",
    "    StructField(\"upc\", StringType(), True),\n",
    "    StructField(\"video\", StringType(), True),\n",
    "])"
   ],
   "metadata": {
    "collapsed": true,
    "ExecuteTime": {
     "end_time": "2024-02-17T00:48:01.114481Z",
     "start_time": "2024-02-17T00:48:01.096315100Z"
    }
   },
   "id": "initial_id",
   "execution_count": 99
  },
  {
   "cell_type": "code",
   "outputs": [
    {
     "name": "stdout",
     "output_type": "stream",
     "text": [
      "Shape:1000 linhas e 32 colunas\n",
      "Tempo de Execução usando PySpark: 0.01651906967163086 segundos\n"
     ]
    }
   ],
   "source": [
    "# Definindo o caminho do arquivo .csv\n",
    "file_path = '.\\\\amazon_electronics.csv'\n",
    "\n",
    "# Start timer\n",
    "start_time = time.time()\n",
    "\n",
    "# (Read) Lendo arquivo .csv e atribuindo a um DataFrame\n",
    "df = spark.read.csv(file_path, schema=schema, header=True, quote='\"',escape='\"')\n",
    "\n",
    "# Fim timer\n",
    "end_time = time.time()\n",
    "\n",
    "# Calculando o tempo de execução\n",
    "exec_time = (end_time - start_time)\n",
    "\n",
    "# Get número de linhas DataFrame\n",
    "num_rows = df.count()\n",
    "\n",
    "# Get número de colunas DataFrame\n",
    "num_columns = len(df.columns)\n",
    "\n",
    "# Exibindo Shape\n",
    "print(\"Shape:{} linhas e {} colunas\".format(num_rows, num_columns))\n",
    "\n",
    "# Exibindo o tempo de execução\n",
    "print(\"Tempo de Execução usando PySpark:\",exec_time,\"segundos\")"
   ],
   "metadata": {
    "collapsed": false,
    "ExecuteTime": {
     "end_time": "2024-02-17T00:48:01.241829200Z",
     "start_time": "2024-02-17T00:48:01.119502800Z"
    }
   },
   "id": "bb4d724f5f673985",
   "execution_count": 100
  },
  {
   "cell_type": "code",
   "outputs": [],
   "source": [
    "# Exibindo o máximo de 34 colunas para que possamos percorrer todo o nosso Dataset horizontalmente \n",
    "pd.options.display.max_columns = 32"
   ],
   "metadata": {
    "collapsed": false,
    "ExecuteTime": {
     "end_time": "2024-02-17T00:48:01.242329600Z",
     "start_time": "2024-02-17T00:48:01.209188500Z"
    }
   },
   "id": "9ae78fb677181c0f",
   "execution_count": 101
  },
  {
   "cell_type": "code",
   "outputs": [
    {
     "data": {
      "text/plain": "    timestamp        asin                     brand  buybox_seller  \\\n0  2023-08-03  B07RGHBLGC                  SHNITPWR      SNT-POWER   \n1  2023-08-15  B09871LZYT                    FINTIE         Fintie   \n2  2023-08-16  B09W9BXT9Z                   Nixplay     Amazon.com   \n3  2022-10-13  B093F837T9  Sound Storm Laboratories   Speece, Inc.   \n4  2024-02-04  B0C2YQ9BJ1                  Redragon  Redragon Shop   \n5  2024-01-21  B08D3Y5PFZ                       AOC     Amazon.com   \n\n  final_price  number_of_sellers  root_bs_rank  reviews_count currency  \\\n0       13.99                  1           NaN            234      USD   \n1       15.99                  2       12194.0           1576      USD   \n2      219.99                  3         366.0           1998      USD   \n3     $335.99                  2       45741.0            324        $   \n4       39.99                  1          91.0           8219      USD   \n5      129.99                 18        2417.0          14803      USD   \n\n                                           image_url  images_count  \\\n0  https://m.media-amazon.com/images/I/61qDGTATaL...             7   \n1  https://m.media-amazon.com/images/I/81Adh+cGYc...             1   \n2  https://m.media-amazon.com/images/I/71iSS-r+KJ...             1   \n3  https://m.media-amazon.com/images/I/71DXeNXt84...             5   \n4  https://m.media-amazon.com/images/I/71chbo4DCq...             1   \n5  https://m.media-amazon.com/images/I/71aXlu6n1q...             1   \n\n                                               title  \\\n0  SHNITPWR 12V 6A AC DC Power Supply Adapter Con...   \n1  Fintie Silicone Case for All-New Fire HD 10 an...   \n2  Nixplay 10.1 inch Touch Screen Digital Picture...   \n3  Sound Storm Laboratories SDML10ACP Single Din ...   \n4  Redragon GS520 RGB Desktop Speakers, 2.0 Chann...   \n5  AOC C24G1A 24\" Curved Frameless Gaming Monitor...   \n\n                                                 url  video_count  \\\n0  https://www.amazon.com/SHNITPWR-Converter-100V...            0   \n1  https://www.amazon.com/Fintie-Silicone-All-New...            0   \n2  https://www.amazon.com/Nixplay-Digital-W10K-Po...            0   \n3  https://www.amazon.com/dp/B093F837T9?language=...            1   \n4  https://www.amazon.com/Redragon-GS520-Speakers...            0   \n5  https://www.amazon.com/AOC-C24G1A-Frameless-19...            0   \n\n                                          categories   item_weight  rating  \\\n0          Electronics,Power Accessories,AC Adapters     400 Grams     4.4   \n1  Electronics,Computers & Accessories,Tablet Acc...    7.4 ounces     4.7   \n2  Electronics,Camera & Photo,Lighting & Studio,P...   1.63 pounds     4.6   \n3  Electronics,Car & Vehicle Electronics,Car Elec...   5.45 pounds     4.1   \n4  Electronics,Computers & Accessories,Computer A...  0.071 ounces     4.4   \n5       Electronics,Computers & Accessories,Monitors   9.92 pounds     4.7   \n\n        seller_id                       availability  \\\n0  A2QEP0IMOO32F1                           In Stock   \n1  A3A3E6QGUGPEMU                           In Stock   \n2   ATVPDKIKX0DER  Only 5 left in stock - order soon   \n3   ABO907060G8YG                          In Stock.   \n4  A2FK9EP27A6ZE6                           In Stock   \n5   ATVPDKIKX0DER                           In Stock   \n\n            product_dimensions discount initial_price  \\\n0             8 x 5 x 2 inches       42         23.99   \n1    5.12 x 1.77 x 0.67 inches     -52%         32.99   \n2   10.55 x 4.65 x 0.99 inches     -25%        219.99   \n3    4.94 x 7.01 x 1.97 inches     null          null   \n4    7.36 x 4.33 x 6.69 inches      -5%         41.99   \n5  9.64 x 21.14 x 20.19 inches     -13%        149.99   \n\n                                         description  \\\n0  About this item Input: AC 100 - 240V, 50 / 60H...   \n1  Specifically designed for All-New Amazon Fire ...   \n2  Nixplay Digital Picture Frame with Touch Scree...   \n3  Sound Storm Laboratories SDML10ACP Apple CarPl...   \n4  Plug & Play, Broad Compatibility USB powered w...   \n5  AOC C24G1A 24-inch Class Curved Gaming Monitor...   \n\n                                               image  answered_questions  \\\n0  https://m.media-amazon.com/images/I/61qDGTATaL...                   0   \n1  https://m.media-amazon.com/images/I/81Adh+cGYc...                   0   \n2  https://m.media-amazon.com/images/I/71iSS-r+KJ...                   0   \n3  https://m.media-amazon.com/images/I/71DXeNXt84...                 146   \n4  https://m.media-amazon.com/images/I/71chbo4DCq...                   0   \n5  https://m.media-amazon.com/images/I/71aXlu6n1q...                   0   \n\n  date_first_available           model_number              manufacturer  \\\n0         May 10, 2019               SNT-1206                  SHNITPWR   \n1       March 15, 2021                EKAR025                    FINTIE   \n2        April 6, 2022  W10K - Polished Steel                   Nixplay   \n3     January 21, 2021              SDML10ACP  Sound Storm Laboratories   \n4      August 24, 2020                  GS520                  Redragon   \n5   September 15, 2020                 C24G1A                       AOC   \n\n    department plus_content   upc  video  \n0         null         true  null  false  \n1         null         true  null  false  \n2         null        false  null  false  \n3         null         true  null   true  \n4  Electronics         true  null  false  \n5  Electronics         true  null  false  ",
      "text/html": "<div>\n<style scoped>\n    .dataframe tbody tr th:only-of-type {\n        vertical-align: middle;\n    }\n\n    .dataframe tbody tr th {\n        vertical-align: top;\n    }\n\n    .dataframe thead th {\n        text-align: right;\n    }\n</style>\n<table border=\"1\" class=\"dataframe\">\n  <thead>\n    <tr style=\"text-align: right;\">\n      <th></th>\n      <th>timestamp</th>\n      <th>asin</th>\n      <th>brand</th>\n      <th>buybox_seller</th>\n      <th>final_price</th>\n      <th>number_of_sellers</th>\n      <th>root_bs_rank</th>\n      <th>reviews_count</th>\n      <th>currency</th>\n      <th>image_url</th>\n      <th>images_count</th>\n      <th>title</th>\n      <th>url</th>\n      <th>video_count</th>\n      <th>categories</th>\n      <th>item_weight</th>\n      <th>rating</th>\n      <th>seller_id</th>\n      <th>availability</th>\n      <th>product_dimensions</th>\n      <th>discount</th>\n      <th>initial_price</th>\n      <th>description</th>\n      <th>image</th>\n      <th>answered_questions</th>\n      <th>date_first_available</th>\n      <th>model_number</th>\n      <th>manufacturer</th>\n      <th>department</th>\n      <th>plus_content</th>\n      <th>upc</th>\n      <th>video</th>\n    </tr>\n  </thead>\n  <tbody>\n    <tr>\n      <th>0</th>\n      <td>2023-08-03</td>\n      <td>B07RGHBLGC</td>\n      <td>SHNITPWR</td>\n      <td>SNT-POWER</td>\n      <td>13.99</td>\n      <td>1</td>\n      <td>NaN</td>\n      <td>234</td>\n      <td>USD</td>\n      <td>https://m.media-amazon.com/images/I/61qDGTATaL...</td>\n      <td>7</td>\n      <td>SHNITPWR 12V 6A AC DC Power Supply Adapter Con...</td>\n      <td>https://www.amazon.com/SHNITPWR-Converter-100V...</td>\n      <td>0</td>\n      <td>Electronics,Power Accessories,AC Adapters</td>\n      <td>400 Grams</td>\n      <td>4.4</td>\n      <td>A2QEP0IMOO32F1</td>\n      <td>In Stock</td>\n      <td>8 x 5 x 2 inches</td>\n      <td>42</td>\n      <td>23.99</td>\n      <td>About this item Input: AC 100 - 240V, 50 / 60H...</td>\n      <td>https://m.media-amazon.com/images/I/61qDGTATaL...</td>\n      <td>0</td>\n      <td>May 10, 2019</td>\n      <td>SNT-1206</td>\n      <td>SHNITPWR</td>\n      <td>null</td>\n      <td>true</td>\n      <td>null</td>\n      <td>false</td>\n    </tr>\n    <tr>\n      <th>1</th>\n      <td>2023-08-15</td>\n      <td>B09871LZYT</td>\n      <td>FINTIE</td>\n      <td>Fintie</td>\n      <td>15.99</td>\n      <td>2</td>\n      <td>12194.0</td>\n      <td>1576</td>\n      <td>USD</td>\n      <td>https://m.media-amazon.com/images/I/81Adh+cGYc...</td>\n      <td>1</td>\n      <td>Fintie Silicone Case for All-New Fire HD 10 an...</td>\n      <td>https://www.amazon.com/Fintie-Silicone-All-New...</td>\n      <td>0</td>\n      <td>Electronics,Computers &amp; Accessories,Tablet Acc...</td>\n      <td>7.4 ounces</td>\n      <td>4.7</td>\n      <td>A3A3E6QGUGPEMU</td>\n      <td>In Stock</td>\n      <td>5.12 x 1.77 x 0.67 inches</td>\n      <td>-52%</td>\n      <td>32.99</td>\n      <td>Specifically designed for All-New Amazon Fire ...</td>\n      <td>https://m.media-amazon.com/images/I/81Adh+cGYc...</td>\n      <td>0</td>\n      <td>March 15, 2021</td>\n      <td>EKAR025</td>\n      <td>FINTIE</td>\n      <td>null</td>\n      <td>true</td>\n      <td>null</td>\n      <td>false</td>\n    </tr>\n    <tr>\n      <th>2</th>\n      <td>2023-08-16</td>\n      <td>B09W9BXT9Z</td>\n      <td>Nixplay</td>\n      <td>Amazon.com</td>\n      <td>219.99</td>\n      <td>3</td>\n      <td>366.0</td>\n      <td>1998</td>\n      <td>USD</td>\n      <td>https://m.media-amazon.com/images/I/71iSS-r+KJ...</td>\n      <td>1</td>\n      <td>Nixplay 10.1 inch Touch Screen Digital Picture...</td>\n      <td>https://www.amazon.com/Nixplay-Digital-W10K-Po...</td>\n      <td>0</td>\n      <td>Electronics,Camera &amp; Photo,Lighting &amp; Studio,P...</td>\n      <td>1.63 pounds</td>\n      <td>4.6</td>\n      <td>ATVPDKIKX0DER</td>\n      <td>Only 5 left in stock - order soon</td>\n      <td>10.55 x 4.65 x 0.99 inches</td>\n      <td>-25%</td>\n      <td>219.99</td>\n      <td>Nixplay Digital Picture Frame with Touch Scree...</td>\n      <td>https://m.media-amazon.com/images/I/71iSS-r+KJ...</td>\n      <td>0</td>\n      <td>April 6, 2022</td>\n      <td>W10K - Polished Steel</td>\n      <td>Nixplay</td>\n      <td>null</td>\n      <td>false</td>\n      <td>null</td>\n      <td>false</td>\n    </tr>\n    <tr>\n      <th>3</th>\n      <td>2022-10-13</td>\n      <td>B093F837T9</td>\n      <td>Sound Storm Laboratories</td>\n      <td>Speece, Inc.</td>\n      <td>$335.99</td>\n      <td>2</td>\n      <td>45741.0</td>\n      <td>324</td>\n      <td>$</td>\n      <td>https://m.media-amazon.com/images/I/71DXeNXt84...</td>\n      <td>5</td>\n      <td>Sound Storm Laboratories SDML10ACP Single Din ...</td>\n      <td>https://www.amazon.com/dp/B093F837T9?language=...</td>\n      <td>1</td>\n      <td>Electronics,Car &amp; Vehicle Electronics,Car Elec...</td>\n      <td>5.45 pounds</td>\n      <td>4.1</td>\n      <td>ABO907060G8YG</td>\n      <td>In Stock.</td>\n      <td>4.94 x 7.01 x 1.97 inches</td>\n      <td>null</td>\n      <td>null</td>\n      <td>Sound Storm Laboratories SDML10ACP Apple CarPl...</td>\n      <td>https://m.media-amazon.com/images/I/71DXeNXt84...</td>\n      <td>146</td>\n      <td>January 21, 2021</td>\n      <td>SDML10ACP</td>\n      <td>Sound Storm Laboratories</td>\n      <td>null</td>\n      <td>true</td>\n      <td>null</td>\n      <td>true</td>\n    </tr>\n    <tr>\n      <th>4</th>\n      <td>2024-02-04</td>\n      <td>B0C2YQ9BJ1</td>\n      <td>Redragon</td>\n      <td>Redragon Shop</td>\n      <td>39.99</td>\n      <td>1</td>\n      <td>91.0</td>\n      <td>8219</td>\n      <td>USD</td>\n      <td>https://m.media-amazon.com/images/I/71chbo4DCq...</td>\n      <td>1</td>\n      <td>Redragon GS520 RGB Desktop Speakers, 2.0 Chann...</td>\n      <td>https://www.amazon.com/Redragon-GS520-Speakers...</td>\n      <td>0</td>\n      <td>Electronics,Computers &amp; Accessories,Computer A...</td>\n      <td>0.071 ounces</td>\n      <td>4.4</td>\n      <td>A2FK9EP27A6ZE6</td>\n      <td>In Stock</td>\n      <td>7.36 x 4.33 x 6.69 inches</td>\n      <td>-5%</td>\n      <td>41.99</td>\n      <td>Plug &amp; Play, Broad Compatibility USB powered w...</td>\n      <td>https://m.media-amazon.com/images/I/71chbo4DCq...</td>\n      <td>0</td>\n      <td>August 24, 2020</td>\n      <td>GS520</td>\n      <td>Redragon</td>\n      <td>Electronics</td>\n      <td>true</td>\n      <td>null</td>\n      <td>false</td>\n    </tr>\n    <tr>\n      <th>5</th>\n      <td>2024-01-21</td>\n      <td>B08D3Y5PFZ</td>\n      <td>AOC</td>\n      <td>Amazon.com</td>\n      <td>129.99</td>\n      <td>18</td>\n      <td>2417.0</td>\n      <td>14803</td>\n      <td>USD</td>\n      <td>https://m.media-amazon.com/images/I/71aXlu6n1q...</td>\n      <td>1</td>\n      <td>AOC C24G1A 24\" Curved Frameless Gaming Monitor...</td>\n      <td>https://www.amazon.com/AOC-C24G1A-Frameless-19...</td>\n      <td>0</td>\n      <td>Electronics,Computers &amp; Accessories,Monitors</td>\n      <td>9.92 pounds</td>\n      <td>4.7</td>\n      <td>ATVPDKIKX0DER</td>\n      <td>In Stock</td>\n      <td>9.64 x 21.14 x 20.19 inches</td>\n      <td>-13%</td>\n      <td>149.99</td>\n      <td>AOC C24G1A 24-inch Class Curved Gaming Monitor...</td>\n      <td>https://m.media-amazon.com/images/I/71aXlu6n1q...</td>\n      <td>0</td>\n      <td>September 15, 2020</td>\n      <td>C24G1A</td>\n      <td>AOC</td>\n      <td>Electronics</td>\n      <td>true</td>\n      <td>null</td>\n      <td>false</td>\n    </tr>\n  </tbody>\n</table>\n</div>"
     },
     "execution_count": 102,
     "metadata": {},
     "output_type": "execute_result"
    }
   ],
   "source": [
    "# Checando as primeiras 6 linhas do DataFrame\n",
    "df.limit(6).toPandas()"
   ],
   "metadata": {
    "collapsed": false,
    "ExecuteTime": {
     "end_time": "2024-02-17T00:48:01.307343300Z",
     "start_time": "2024-02-17T00:48:01.214275100Z"
    }
   },
   "id": "a18ee90bad519d3",
   "execution_count": 102
  },
  {
   "cell_type": "code",
   "outputs": [
    {
     "data": {
      "text/plain": "[Row(timestamp=datetime.date(2023, 8, 3), asin='B07RGHBLGC', brand='SHNITPWR', buybox_seller='SNT-POWER', final_price='13.99', number_of_sellers=1, root_bs_rank=None, reviews_count=234, currency='USD', image_url='https://m.media-amazon.com/images/I/61qDGTATaLL.__AC_SX300_SY300_QL70_FMwebp_.jpg', images_count=7, title='SHNITPWR 12V 6A AC DC Power Supply Adapter Converter 100V~240V AC to DC 12 Volt 6 Amp 72W LED Driver Transformer with 5.5x2.5mm Plug for 5050 3528 LED Strip 3D Printer CCTV Security System LCD Monitor', url='https://www.amazon.com/SHNITPWR-Converter-100V-240V-Transformer-5-5x2-5mm/dp/B07RGHBLGC', video_count=0, categories='Electronics,Power Accessories,AC Adapters', item_weight='400 Grams', rating=4.4, seller_id='A2QEP0IMOO32F1', availability='In Stock', product_dimensions='8 x 5 x 2 inches', discount='42', initial_price='23.99', description=\"About this item Input: AC 100 - 240V, 50 / 60Hz ; Output: DC 12V, Max 6A, 72W ; It can supply with all amperage less than 6A. ---such as 500mA, 1A, 2.5A, 3A, 5A, 6A. If your device draws 4A then 4A will be supplied. But if draws more than 6A, only 6A will be supplied and power supply will be damaged soon. NEVER OVERLOAD！ Please pay attention to the size and polarity of the power plug.The polarity of this adapter is Central Positive(+) and Outer Negative(-).And it can Only be used for devices with sockets of 5.5 x 2.1mm! If you are not sure whether the adapter matches your device, feel free to contact us by email. Certified by FCC CE ROHS. We focus on producing high quality power adapters. No noise, low temperature operation, no spontaneous combustion, no explosion, no fire hazard, stable output. Automatic overload cut-off, over voltage cut-off, automatic thermal cut-off, short circuit protection. It is perfect for 5050 3528 12V LED Strip Light, Wireless Router, ADSL Cats, HUB, Security Cameras, Audio/ Video Power Supply, 3D Printer, LED Driver, CCTV Security System, LCD Monitor, Webcam Router and other 12V devices. This\\xa0product\\xa0is\\xa0an\\xa0AC\\xa0to\\xa0DC\\xa0adapter,\\xa0NOT\\xa0charger!!!It\\xa0can’t\\xa0be\\xa0used\\xa0to\\xa0charge\\xa0electronic\\xa0devices\\xa0with\\xa0batteries,\\xa0such\\xa0as\\xa0laptops.\\xa0Otherwise,\\xa0it\\xa0may\\xa0damage\\xa0your\\xa0device. If you don't like our product or don't want it, please feel free to contact us. We will happily accept the return and give you refund, we have 30 days money back guarantee, 18 months exchange.\", image='https://m.media-amazon.com/images/I/61qDGTATaLL.__AC_SX300_SY300_QL70_FMwebp_.jpg', answered_questions=0, date_first_available='May 10, 2019', model_number='SNT-1206', manufacturer='SHNITPWR', department='null', plus_content='true', upc='null', video='false'),\n Row(timestamp=datetime.date(2023, 8, 15), asin='B09871LZYT', brand='FINTIE', buybox_seller='Fintie', final_price='15.99', number_of_sellers=2, root_bs_rank=12194, reviews_count=1576, currency='USD', image_url='https://m.media-amazon.com/images/I/81Adh+cGYcS._AC_SY300_SX300_.jpg', images_count=1, title='Fintie Silicone Case for All-New Fire HD 10 and Fire HD 10 Plus Tablet (Only compatible with 11th Generation 2021 Release) - [Honey Comb] Light Weight Shock Proof Back Cover, Black', url='https://www.amazon.com/Fintie-Silicone-All-New-Compatible-Generation/dp/B08YYQ7SHQ', video_count=0, categories='Electronics,Computers & Accessories,Tablet Accessories,Bags, Cases & Sleeves,Cases', item_weight='7.4 ounces', rating=4.7, seller_id='A3A3E6QGUGPEMU', availability='In Stock', product_dimensions='5.12 x 1.77 x 0.67 inches', discount='-52%', initial_price='32.99', description='Specifically designed for All-New Amazon Fire HD 10 Tablet and Fire HD 10 Plus Tablet (Compatible with 11th Generation, 2021 Release). Special rear pattern with raised supports for grip and drop protection in a Patented Honey Comb anti slip design. Made of duarable impact-resistant silicone. The 2nd generation Honey Comb series provide extra corner protection with enhanced shock absorber design to protect from extreme shock and impact. All ports, buttons and speakers have precision cut -outs for easy access. Form fit feature protects back and sides from scratches, dirt and bumps. Supports Fire HD 10 Plus 2021 11th generation tablet wireless charging with Amazon Wireless Charging Dock. Available in a variety of bright, fun colors.', image='https://m.media-amazon.com/images/I/81Adh+cGYcS._AC_SY300_SX300_.jpg', answered_questions=0, date_first_available='March 15, 2021', model_number='EKAR025', manufacturer='FINTIE', department='null', plus_content='true', upc='null', video='false'),\n Row(timestamp=datetime.date(2023, 8, 16), asin='B09W9BXT9Z', brand='Nixplay', buybox_seller='Amazon.com', final_price='219.99', number_of_sellers=3, root_bs_rank=366, reviews_count=1998, currency='USD', image_url='https://m.media-amazon.com/images/I/71iSS-r+KJL._AC_SY300_SX300_.jpg', images_count=1, title='Nixplay 10.1 inch Touch Screen Digital Picture Frame with WiFi (W10K) - Polished Steel - Share Photos and Videos Instantly via Email or App - Preload Content', url='https://www.amazon.com/Nixplay-Digital-W10K-Polished-Instantly/dp/B09W9BXT9Z', video_count=0, categories='Electronics,Camera & Photo,Lighting & Studio,Photo Studio,Storage & Presentation Materials,Digital Picture Frames', item_weight='1.63 pounds', rating=4.6, seller_id='ATVPDKIKX0DER', availability='Only 5 left in stock - order soon', product_dimensions='10.55 x 4.65 x 0.99 inches', discount='-25%', initial_price='219.99', description='Nixplay Digital Picture Frame with Touch Screen. Share your moments through the Nixplay mobile app for iOS/Android and make the most of your most treasured memories.', image='https://m.media-amazon.com/images/I/71iSS-r+KJL._AC_SY300_SX300_.jpg', answered_questions=0, date_first_available='April 6, 2022', model_number='W10K - Polished Steel', manufacturer='Nixplay', department='null', plus_content='false', upc='null', video='false'),\n Row(timestamp=datetime.date(2022, 10, 13), asin='B093F837T9', brand='Sound Storm Laboratories', buybox_seller='Speece, Inc.', final_price='$335.99', number_of_sellers=2, root_bs_rank=45741, reviews_count=324, currency='$', image_url='https://m.media-amazon.com/images/I/71DXeNXt84L.__AC_SX300_SY300_QL70_FMwebp_.jpg', images_count=5, title='Sound Storm Laboratories SDML10ACP Single Din Chassis, Detachable 10 Inch Capacitive Touchscreen, Apple CarPlay, Android Auto, Bluetooth, No DVD, RGB Illumination, High Resolution FLAC Audio', url='https://www.amazon.com/dp/B093F837T9?language=en_US&currency=USD', video_count=1, categories='Electronics,Car & Vehicle Electronics,Car Electronics,Car Video,In-Dash DVD & Video Receivers', item_weight='5.45 pounds', rating=4.1, seller_id='ABO907060G8YG', availability='In Stock.', product_dimensions='4.94 x 7.01 x 1.97 inches', discount='null', initial_price='null', description='Sound Storm Laboratories SDML10ACP Apple CarPlay Android Auto Car Multimedia Player – Single Din Chassis With 10 Inch Capacitive Touchscreen, Bluetooth, No DVD, High Resolution FLAC, RGB Illumination', image='https://m.media-amazon.com/images/I/71DXeNXt84L.__AC_SX300_SY300_QL70_FMwebp_.jpg', answered_questions=146, date_first_available='January 21, 2021', model_number='SDML10ACP', manufacturer='Sound Storm Laboratories', department='null', plus_content='true', upc='null', video='true'),\n Row(timestamp=datetime.date(2024, 2, 4), asin='B0C2YQ9BJ1', brand='Redragon', buybox_seller='Redragon Shop', final_price='39.99', number_of_sellers=1, root_bs_rank=91, reviews_count=8219, currency='USD', image_url='https://m.media-amazon.com/images/I/71chbo4DCqL.__AC_SX300_SY300_QL70_FMwebp_.jpg', images_count=1, title='Redragon GS520 RGB Desktop Speakers, 2.0 Channel PC Computer Stereo Speaker with 6 Colorful LED Modes, Enhanced Sound and Easy-Access Volume Control, USB Powered w/ 3.5mm Cable, Pink', url='https://www.amazon.com/Redragon-GS520-Speakers-Computer-Easy-Access/dp/B0C2YQ9BJ1?th=1&psc=1&currency=USD&language=en_GB', video_count=0, categories='Electronics,Computers & Accessories,Computer Accessories & Peripherals,Audio & Video Accessories,Computer Speakers', item_weight='0.071 ounces', rating=4.4, seller_id='A2FK9EP27A6ZE6', availability='In Stock', product_dimensions='7.36 x 4.33 x 6.69 inches', discount='-5%', initial_price='41.99', description='Plug & Play, Broad Compatibility USB powered with 3.5mm audio and mic cables allows this rockstar to party on wide types of stages. Up to 35 in (90 cm) cable length between two speakers.   Detailed Texture Style Minimalist, but not singularly boring. Urban modern style with brushed texture finish, highlighting your taste.', image='https://m.media-amazon.com/images/I/71chbo4DCqL.__AC_SX300_SY300_QL70_FMwebp_.jpg', answered_questions=0, date_first_available='August 24, 2020', model_number='GS520', manufacturer='Redragon', department='Electronics', plus_content='true', upc='null', video='false'),\n Row(timestamp=datetime.date(2024, 1, 21), asin='B08D3Y5PFZ', brand='AOC', buybox_seller='Amazon.com', final_price='129.99', number_of_sellers=18, root_bs_rank=2417, reviews_count=14803, currency='USD', image_url='https://m.media-amazon.com/images/I/71aXlu6n1qL.__AC_SX300_SY300_QL70_FMwebp_.jpg', images_count=1, title='AOC C24G1A 24\" Curved Frameless Gaming Monitor, FHD 1920x1080, 1500R, VA, 1ms MPRT, 165Hz (144Hz supported), FreeSync Premium, Height adjustable Black', url='https://www.amazon.com/AOC-C24G1A-Frameless-1920x1080-adjustable/dp/B08D3Y5PFZ?th=1&psc=1&currency=USD&language=en_GB', video_count=0, categories='Electronics,Computers & Accessories,Monitors', item_weight='9.92 pounds', rating=4.7, seller_id='ATVPDKIKX0DER', availability='In Stock', product_dimensions='9.64 x 21.14 x 20.19 inches', discount='-13%', initial_price='149.99', description='AOC C24G1A 24-inch Class Curved Gaming Monitor FreeSync Premium support ensures a stutter-free and tear-free gaming experience at any frame rate. Equipped with a curved 23.6 VA panel, the C24G1A displays a super-detailed Full HD resolution (1920x1080 pixels) at a screaming 165Hz refresh rate and 1ms response time (MPRT).Crazy Immersive ExperienceIts extremely curved design (1500R curvature) wraps around you, putting you at the center of the action and providing an immersive gaming experience. Wrap yourself in a pair (or three) of these frameless monitors for the ultimate curved viewing experience.165Hz, 1ms Gameplay165Hz refresh rate and 1ms response times brings unprecedented smoothness and fluidity to your games and virtual instantaneous response to your mouse and keyboard actions. With LFC support that allows the monitor to adjust between 48-165Hz refresh rate, gone are the days of tearing and stutters. Maximize the performance of your consoles by unleashing up to 120Hz frame rate (exact performance depends on consoles) and ultra low latency, giving you an edge over your opponents.The Ultimate Battle Station expands your view with multiple monitor set-ups. Its frameless design (with narrow borders) offers minimal bezel distraction and an extra clean set-up for the ultimate battle station.AMD FreeSync PremiumAMD FreeSyncPremium synchronizes the display and AMD GPU in your PC to eliminate screen tearing, stutter and input lag, providing the smoothest, fastest, and visually stunning gaming experience possible.Height Adjustable Stand and Quick ReleaseThe AOC Gaming C24G1A monitor comes with a height adjustable stand and swivel and tilt movements to adjust it to the optimal position to promote better ergonomics, allowing for better sitting postures during extended gaming sessions. The quick release button on the stand allows for quick disassembly for times when you need to bring your rig to the next battle ground.What\\'s in the Box: 23.6\" monitor, power cord, HDMI cable, DP cable, and QSG. At AOC, we design great products that meet our customers’ needs in a sustainable and responsible way. Our entire lineup is Mercury-free, ROHS-compliant, and made from conflict-free materials. Our packaging now includes less plastic, less ink, and more paper. To learn more about our full commitment to a greener future, visit Environment Policy | AOC Monitors.', image='https://m.media-amazon.com/images/I/71aXlu6n1qL.__AC_SX300_SY300_QL70_FMwebp_.jpg', answered_questions=0, date_first_available='September 15, 2020', model_number='C24G1A', manufacturer='AOC', department='Electronics', plus_content='true', upc='null', video='false')]"
     },
     "execution_count": 103,
     "metadata": {},
     "output_type": "execute_result"
    }
   ],
   "source": [
    "df.limit(6).collect()"
   ],
   "metadata": {
    "collapsed": false,
    "ExecuteTime": {
     "end_time": "2024-02-17T00:48:01.333969400Z",
     "start_time": "2024-02-17T00:48:01.274253Z"
    }
   },
   "id": "aaf49ecf3c3e63ba",
   "execution_count": 103
  },
  {
   "cell_type": "code",
   "outputs": [
    {
     "data": {
      "text/plain": "                      brand  \\\n0                  SHNITPWR   \n1                    FINTIE   \n2                   Nixplay   \n3  Sound Storm Laboratories   \n4                  Redragon   \n\n                                               title  images_count  \\\n0  SHNITPWR 12V 6A AC DC Power Supply Adapter Con...             7   \n1  Fintie Silicone Case for All-New Fire HD 10 an...             1   \n2  Nixplay 10.1 inch Touch Screen Digital Picture...             1   \n3  Sound Storm Laboratories SDML10ACP Single Din ...             5   \n4  Redragon GS520 RGB Desktop Speakers, 2.0 Chann...             1   \n\n   video_count  \n0            0  \n1            0  \n2            0  \n3            1  \n4            0  ",
      "text/html": "<div>\n<style scoped>\n    .dataframe tbody tr th:only-of-type {\n        vertical-align: middle;\n    }\n\n    .dataframe tbody tr th {\n        vertical-align: top;\n    }\n\n    .dataframe thead th {\n        text-align: right;\n    }\n</style>\n<table border=\"1\" class=\"dataframe\">\n  <thead>\n    <tr style=\"text-align: right;\">\n      <th></th>\n      <th>brand</th>\n      <th>title</th>\n      <th>images_count</th>\n      <th>video_count</th>\n    </tr>\n  </thead>\n  <tbody>\n    <tr>\n      <th>0</th>\n      <td>SHNITPWR</td>\n      <td>SHNITPWR 12V 6A AC DC Power Supply Adapter Con...</td>\n      <td>7</td>\n      <td>0</td>\n    </tr>\n    <tr>\n      <th>1</th>\n      <td>FINTIE</td>\n      <td>Fintie Silicone Case for All-New Fire HD 10 an...</td>\n      <td>1</td>\n      <td>0</td>\n    </tr>\n    <tr>\n      <th>2</th>\n      <td>Nixplay</td>\n      <td>Nixplay 10.1 inch Touch Screen Digital Picture...</td>\n      <td>1</td>\n      <td>0</td>\n    </tr>\n    <tr>\n      <th>3</th>\n      <td>Sound Storm Laboratories</td>\n      <td>Sound Storm Laboratories SDML10ACP Single Din ...</td>\n      <td>5</td>\n      <td>1</td>\n    </tr>\n    <tr>\n      <th>4</th>\n      <td>Redragon</td>\n      <td>Redragon GS520 RGB Desktop Speakers, 2.0 Chann...</td>\n      <td>1</td>\n      <td>0</td>\n    </tr>\n  </tbody>\n</table>\n</div>"
     },
     "execution_count": 104,
     "metadata": {},
     "output_type": "execute_result"
    }
   ],
   "source": [
    "# Selecionando colunas específicas\n",
    "df.select('brand','title','images_count','video_count').limit(5).toPandas()"
   ],
   "metadata": {
    "collapsed": false,
    "ExecuteTime": {
     "end_time": "2024-02-17T00:48:01.455853300Z",
     "start_time": "2024-02-17T00:48:01.322457200Z"
    }
   },
   "id": "3b260b0ca08332fd",
   "execution_count": 104
  },
  {
   "cell_type": "code",
   "outputs": [
    {
     "data": {
      "text/plain": "1000"
     },
     "execution_count": 105,
     "metadata": {},
     "output_type": "execute_result"
    }
   ],
   "source": [
    "# Verificando se o ASIN (Amazon Standard Identification Number) é único (UNIQUE)\n",
    "# O método collect() retona uma lista de linhas.[0] é usado para acessar a primeira linha na lista,\n",
    "# e [0] de novo é usado para acessar o primeiro elemento (a contagem de valores distintos) na linha\n",
    "\n",
    "df.agg(countDistinct(\"asin\")).collect()[0][0]"
   ],
   "metadata": {
    "collapsed": false,
    "ExecuteTime": {
     "end_time": "2024-02-17T00:48:01.754397200Z",
     "start_time": "2024-02-17T00:48:01.401744100Z"
    }
   },
   "id": "f445a4e3bab9b528",
   "execution_count": 105
  },
  {
   "cell_type": "code",
   "outputs": [
    {
     "data": {
      "text/plain": "1000"
     },
     "execution_count": 106,
     "metadata": {},
     "output_type": "execute_result"
    }
   ],
   "source": [
    "# Outra alternativa é agrupar e contar todas as linhas \n",
    "(df.groupby('asin').count()).count()"
   ],
   "metadata": {
    "collapsed": false,
    "ExecuteTime": {
     "end_time": "2024-02-17T00:48:02.050938600Z",
     "start_time": "2024-02-17T00:48:01.750897600Z"
    }
   },
   "id": "bab899eccdff1635",
   "execution_count": 106
  },
  {
   "cell_type": "code",
   "outputs": [
    {
     "data": {
      "text/plain": "    timestamp        asin    brand buybox_seller final_price  \\\n0  2024-02-04  B09X7DY7Q4  SanDisk  CalvinNHobbs       13.25   \n1  2024-01-16  B07SSZ8W38  SanDisk    Amazon.com           9   \n2  2023-08-25  B0000D8CMK  SanDisk        espee7       25.93   \n\n   number_of_sellers  root_bs_rank  reviews_count currency  \\\n0                 19            44           9779      USD   \n1                 11           227           6204      USD   \n2                  4           482            175      USD   \n\n                                           image_url  images_count  \\\n0  https://m.media-amazon.com/images/I/814l26oR+7...             1   \n1  https://m.media-amazon.com/images/I/51jPauko63...             1   \n2  https://m.media-amazon.com/images/I/51pU5lLQcW...             1   \n\n                                               title  \\\n0  SanDisk 64GB Extreme SDXC UHS-I Memory Card - ...   \n1  SanDisk 64GB Ultra Luxe USB 3.1 Gen 1 Flash Dr...   \n2       SanDisk SD - Flash Memory Card - 512 MB - SD   \n\n                                                 url  video_count  \\\n0  https://www.amazon.com/SanDisk-Extreme-UHS-I-M...            0   \n1  https://www.amazon.com/SanDisk-64GB-Ultra-Flas...            0   \n2  https://www.amazon.com/SanDisk-SD-Flash-Memory...            0   \n\n                                          categories   item_weight  rating  \\\n0  Electronics,Computers & Accessories,Computer A...  0.071 ounces     4.8   \n1  Electronics,Computers & Accessories,Data Stora...   0.05 ounces     4.5   \n2  Electronics,Computers & Accessories,Computer A...  0.071 ounces     4.2   \n\n        seller_id                        availability  \\\n0  A2NDNAPHQ3UDKH  Only 2 left in stock - order soon.   \n1   ATVPDKIKX0DER                            In Stock   \n2  A2OR3WSDZ5KM01                            In Stock   \n\n          product_dimensions discount initial_price  \\\n0  0.09 x 0.94 x 1.26 inches     -12%         14.99   \n1  1.57 x 0.62 x 0.23 inches     -50%         17.99   \n2  0.94 x 1.26 x 0.08 inches     -42%         44.95   \n\n                                         description  \\\n0  With the SanDisk Extreme SD UHS-I memory card ...   \n1  Combine the necessity for a convenient way to ...   \n2  SanDisk Corporation is the world's largest sup...   \n\n                                               image  answered_questions  \\\n0  https://m.media-amazon.com/images/I/814l26oR+7...                   0   \n1  https://m.media-amazon.com/images/I/51jPauko63...                   0   \n2  https://m.media-amazon.com/images/I/51pU5lLQcW...                   0   \n\n  date_first_available        model_number  \\\n0        June 16, 2022  SDSDXV2-064G-GNCIN   \n1        June 28, 2019     SDCZ74-064G-A46   \n2        July 20, 2007       SDSDB-512-E10   \n\n                         manufacturer   department plus_content   upc  video  \n0  Western Digital Technologies, Inc.  Electronics         true  null  false  \n1  Western Digital Technologies, Inc.  Electronics         true  null  false  \n2                 SanDisk Corporation         null        false  null  false  ",
      "text/html": "<div>\n<style scoped>\n    .dataframe tbody tr th:only-of-type {\n        vertical-align: middle;\n    }\n\n    .dataframe tbody tr th {\n        vertical-align: top;\n    }\n\n    .dataframe thead th {\n        text-align: right;\n    }\n</style>\n<table border=\"1\" class=\"dataframe\">\n  <thead>\n    <tr style=\"text-align: right;\">\n      <th></th>\n      <th>timestamp</th>\n      <th>asin</th>\n      <th>brand</th>\n      <th>buybox_seller</th>\n      <th>final_price</th>\n      <th>number_of_sellers</th>\n      <th>root_bs_rank</th>\n      <th>reviews_count</th>\n      <th>currency</th>\n      <th>image_url</th>\n      <th>images_count</th>\n      <th>title</th>\n      <th>url</th>\n      <th>video_count</th>\n      <th>categories</th>\n      <th>item_weight</th>\n      <th>rating</th>\n      <th>seller_id</th>\n      <th>availability</th>\n      <th>product_dimensions</th>\n      <th>discount</th>\n      <th>initial_price</th>\n      <th>description</th>\n      <th>image</th>\n      <th>answered_questions</th>\n      <th>date_first_available</th>\n      <th>model_number</th>\n      <th>manufacturer</th>\n      <th>department</th>\n      <th>plus_content</th>\n      <th>upc</th>\n      <th>video</th>\n    </tr>\n  </thead>\n  <tbody>\n    <tr>\n      <th>0</th>\n      <td>2024-02-04</td>\n      <td>B09X7DY7Q4</td>\n      <td>SanDisk</td>\n      <td>CalvinNHobbs</td>\n      <td>13.25</td>\n      <td>19</td>\n      <td>44</td>\n      <td>9779</td>\n      <td>USD</td>\n      <td>https://m.media-amazon.com/images/I/814l26oR+7...</td>\n      <td>1</td>\n      <td>SanDisk 64GB Extreme SDXC UHS-I Memory Card - ...</td>\n      <td>https://www.amazon.com/SanDisk-Extreme-UHS-I-M...</td>\n      <td>0</td>\n      <td>Electronics,Computers &amp; Accessories,Computer A...</td>\n      <td>0.071 ounces</td>\n      <td>4.8</td>\n      <td>A2NDNAPHQ3UDKH</td>\n      <td>Only 2 left in stock - order soon.</td>\n      <td>0.09 x 0.94 x 1.26 inches</td>\n      <td>-12%</td>\n      <td>14.99</td>\n      <td>With the SanDisk Extreme SD UHS-I memory card ...</td>\n      <td>https://m.media-amazon.com/images/I/814l26oR+7...</td>\n      <td>0</td>\n      <td>June 16, 2022</td>\n      <td>SDSDXV2-064G-GNCIN</td>\n      <td>Western Digital Technologies, Inc.</td>\n      <td>Electronics</td>\n      <td>true</td>\n      <td>null</td>\n      <td>false</td>\n    </tr>\n    <tr>\n      <th>1</th>\n      <td>2024-01-16</td>\n      <td>B07SSZ8W38</td>\n      <td>SanDisk</td>\n      <td>Amazon.com</td>\n      <td>9</td>\n      <td>11</td>\n      <td>227</td>\n      <td>6204</td>\n      <td>USD</td>\n      <td>https://m.media-amazon.com/images/I/51jPauko63...</td>\n      <td>1</td>\n      <td>SanDisk 64GB Ultra Luxe USB 3.1 Gen 1 Flash Dr...</td>\n      <td>https://www.amazon.com/SanDisk-64GB-Ultra-Flas...</td>\n      <td>0</td>\n      <td>Electronics,Computers &amp; Accessories,Data Stora...</td>\n      <td>0.05 ounces</td>\n      <td>4.5</td>\n      <td>ATVPDKIKX0DER</td>\n      <td>In Stock</td>\n      <td>1.57 x 0.62 x 0.23 inches</td>\n      <td>-50%</td>\n      <td>17.99</td>\n      <td>Combine the necessity for a convenient way to ...</td>\n      <td>https://m.media-amazon.com/images/I/51jPauko63...</td>\n      <td>0</td>\n      <td>June 28, 2019</td>\n      <td>SDCZ74-064G-A46</td>\n      <td>Western Digital Technologies, Inc.</td>\n      <td>Electronics</td>\n      <td>true</td>\n      <td>null</td>\n      <td>false</td>\n    </tr>\n    <tr>\n      <th>2</th>\n      <td>2023-08-25</td>\n      <td>B0000D8CMK</td>\n      <td>SanDisk</td>\n      <td>espee7</td>\n      <td>25.93</td>\n      <td>4</td>\n      <td>482</td>\n      <td>175</td>\n      <td>USD</td>\n      <td>https://m.media-amazon.com/images/I/51pU5lLQcW...</td>\n      <td>1</td>\n      <td>SanDisk SD - Flash Memory Card - 512 MB - SD</td>\n      <td>https://www.amazon.com/SanDisk-SD-Flash-Memory...</td>\n      <td>0</td>\n      <td>Electronics,Computers &amp; Accessories,Computer A...</td>\n      <td>0.071 ounces</td>\n      <td>4.2</td>\n      <td>A2OR3WSDZ5KM01</td>\n      <td>In Stock</td>\n      <td>0.94 x 1.26 x 0.08 inches</td>\n      <td>-42%</td>\n      <td>44.95</td>\n      <td>SanDisk Corporation is the world's largest sup...</td>\n      <td>https://m.media-amazon.com/images/I/51pU5lLQcW...</td>\n      <td>0</td>\n      <td>July 20, 2007</td>\n      <td>SDSDB-512-E10</td>\n      <td>SanDisk Corporation</td>\n      <td>null</td>\n      <td>false</td>\n      <td>null</td>\n      <td>false</td>\n    </tr>\n  </tbody>\n</table>\n</div>"
     },
     "execution_count": 107,
     "metadata": {},
     "output_type": "execute_result"
    }
   ],
   "source": [
    "# Filtrando o DataFrame para uma marca específica \n",
    "df.filter(col('brand') == 'SanDisk').limit(3).toPandas()"
   ],
   "metadata": {
    "collapsed": false,
    "ExecuteTime": {
     "end_time": "2024-02-17T00:48:02.118805500Z",
     "start_time": "2024-02-17T00:48:02.048402500Z"
    }
   },
   "id": "936ba9fe913f49f2",
   "execution_count": 107
  },
  {
   "cell_type": "code",
   "outputs": [
    {
     "data": {
      "text/plain": "         asin                                              title      brand  \\\n0  B07RGHBLGC  SHNITPWR 12V 6A AC DC Power Supply Adapter Con...   SHNITPWR   \n1  B016YJWJ6S  Elgato Game Capture HD60 - Next Generation Gam...    Corsair   \n2  B01EKARUUS  StarTech.com USB-C Multiport Adapter - USB-C T...   StarTech   \n3  B0875NRKTP  Tz Tape 12mm 0.47 Laminated Clear Replacement ...  COLORWING   \n4  B08B34C5Y7  GearIT HDMI Cable (10-Pack / 6.6ft / 2m) High-...     GearIT   \n\n   images_count  \n0             7  \n1             6  \n2             9  \n3             8  \n4             7  ",
      "text/html": "<div>\n<style scoped>\n    .dataframe tbody tr th:only-of-type {\n        vertical-align: middle;\n    }\n\n    .dataframe tbody tr th {\n        vertical-align: top;\n    }\n\n    .dataframe thead th {\n        text-align: right;\n    }\n</style>\n<table border=\"1\" class=\"dataframe\">\n  <thead>\n    <tr style=\"text-align: right;\">\n      <th></th>\n      <th>asin</th>\n      <th>title</th>\n      <th>brand</th>\n      <th>images_count</th>\n    </tr>\n  </thead>\n  <tbody>\n    <tr>\n      <th>0</th>\n      <td>B07RGHBLGC</td>\n      <td>SHNITPWR 12V 6A AC DC Power Supply Adapter Con...</td>\n      <td>SHNITPWR</td>\n      <td>7</td>\n    </tr>\n    <tr>\n      <th>1</th>\n      <td>B016YJWJ6S</td>\n      <td>Elgato Game Capture HD60 - Next Generation Gam...</td>\n      <td>Corsair</td>\n      <td>6</td>\n    </tr>\n    <tr>\n      <th>2</th>\n      <td>B01EKARUUS</td>\n      <td>StarTech.com USB-C Multiport Adapter - USB-C T...</td>\n      <td>StarTech</td>\n      <td>9</td>\n    </tr>\n    <tr>\n      <th>3</th>\n      <td>B0875NRKTP</td>\n      <td>Tz Tape 12mm 0.47 Laminated Clear Replacement ...</td>\n      <td>COLORWING</td>\n      <td>8</td>\n    </tr>\n    <tr>\n      <th>4</th>\n      <td>B08B34C5Y7</td>\n      <td>GearIT HDMI Cable (10-Pack / 6.6ft / 2m) High-...</td>\n      <td>GearIT</td>\n      <td>7</td>\n    </tr>\n  </tbody>\n</table>\n</div>"
     },
     "execution_count": 108,
     "metadata": {},
     "output_type": "execute_result"
    }
   ],
   "source": [
    "# Filtrando o DataFrame por produtos com mais de 5 imagens\n",
    "df.filter(col('images_count') > 5).select('asin','title','brand','images_count').limit(5).toPandas()"
   ],
   "metadata": {
    "collapsed": false,
    "ExecuteTime": {
     "end_time": "2024-02-17T00:48:02.221518300Z",
     "start_time": "2024-02-17T00:48:02.116799300Z"
    }
   },
   "id": "fec1a3f305c768e7",
   "execution_count": 108
  },
  {
   "cell_type": "code",
   "outputs": [
    {
     "data": {
      "text/plain": "         asin                                              title     brand  \\\n0  B09BDDSDTC  Sony SRS-XG500 X-Series Wireless Portable Blue...      Sony   \n1  B08QCLVJBM  Leayjeen Kids Digital Video Camera Case Compat...  Leayjeen   \n2  B087NHNVT5  Linklike Wired Earbuds with Microphone Extra B...  Linklike   \n3  B09PFNNQ9N  FRAMEO Digital Photo Frame 10.1 inch WiFi Smar...    dxmart   \n4  B0921ZK2FK  Leayjeen Kids Digital Video Camera Case Compat...  Leayjeen   \n\n   images_count  video_count  \n0            14            6  \n1             6            6  \n2             8            6  \n3             9            6  \n4             6            6  ",
      "text/html": "<div>\n<style scoped>\n    .dataframe tbody tr th:only-of-type {\n        vertical-align: middle;\n    }\n\n    .dataframe tbody tr th {\n        vertical-align: top;\n    }\n\n    .dataframe thead th {\n        text-align: right;\n    }\n</style>\n<table border=\"1\" class=\"dataframe\">\n  <thead>\n    <tr style=\"text-align: right;\">\n      <th></th>\n      <th>asin</th>\n      <th>title</th>\n      <th>brand</th>\n      <th>images_count</th>\n      <th>video_count</th>\n    </tr>\n  </thead>\n  <tbody>\n    <tr>\n      <th>0</th>\n      <td>B09BDDSDTC</td>\n      <td>Sony SRS-XG500 X-Series Wireless Portable Blue...</td>\n      <td>Sony</td>\n      <td>14</td>\n      <td>6</td>\n    </tr>\n    <tr>\n      <th>1</th>\n      <td>B08QCLVJBM</td>\n      <td>Leayjeen Kids Digital Video Camera Case Compat...</td>\n      <td>Leayjeen</td>\n      <td>6</td>\n      <td>6</td>\n    </tr>\n    <tr>\n      <th>2</th>\n      <td>B087NHNVT5</td>\n      <td>Linklike Wired Earbuds with Microphone Extra B...</td>\n      <td>Linklike</td>\n      <td>8</td>\n      <td>6</td>\n    </tr>\n    <tr>\n      <th>3</th>\n      <td>B09PFNNQ9N</td>\n      <td>FRAMEO Digital Photo Frame 10.1 inch WiFi Smar...</td>\n      <td>dxmart</td>\n      <td>9</td>\n      <td>6</td>\n    </tr>\n    <tr>\n      <th>4</th>\n      <td>B0921ZK2FK</td>\n      <td>Leayjeen Kids Digital Video Camera Case Compat...</td>\n      <td>Leayjeen</td>\n      <td>6</td>\n      <td>6</td>\n    </tr>\n  </tbody>\n</table>\n</div>"
     },
     "execution_count": 109,
     "metadata": {},
     "output_type": "execute_result"
    }
   ],
   "source": [
    " # Filtrando o DataFrame por produtos com mais de 5 imagens AND mais de 5 videos\n",
    "df.filter((col('images_count') > 5) & (col('video_count') > 5)).select('asin','title','brand','images_count','video_count').limit(5).toPandas()"
   ],
   "metadata": {
    "collapsed": false,
    "ExecuteTime": {
     "end_time": "2024-02-17T00:48:02.285312400Z",
     "start_time": "2024-02-17T00:48:02.169435700Z"
    }
   },
   "id": "94cb66ff0fc892e3",
   "execution_count": 109
  },
  {
   "cell_type": "markdown",
   "source": [
    "## Limpeza e Transformação de Dados"
   ],
   "metadata": {
    "collapsed": false
   },
   "id": "7dc428445c5adaa3"
  },
  {
   "cell_type": "markdown",
   "source": [
    "### Mantendo apenas as colunas de interesse"
   ],
   "metadata": {
    "collapsed": false
   },
   "id": "41cec073f58d35e0"
  },
  {
   "cell_type": "code",
   "outputs": [],
   "source": [
    "cols = ['timestamp', 'asin', 'brand', 'initial_price', 'final_price', 'reviews_count', 'images_count', 'title', 'url', 'video_count', 'rating', 'categories']\n",
    "\n",
    "df = df.select(cols)"
   ],
   "metadata": {
    "collapsed": false,
    "ExecuteTime": {
     "end_time": "2024-02-17T00:48:02.344185500Z",
     "start_time": "2024-02-17T00:48:02.235458800Z"
    }
   },
   "id": "ea15487c3eccdf3f",
   "execution_count": 110
  },
  {
   "cell_type": "code",
   "outputs": [
    {
     "data": {
      "text/plain": "      timestamp        asin                     brand initial_price  \\\n0    2023-08-03  B07RGHBLGC                  SHNITPWR         23.99   \n1    2023-08-15  B09871LZYT                    FINTIE         32.99   \n2    2023-08-16  B09W9BXT9Z                   Nixplay        219.99   \n3    2022-10-13  B093F837T9  Sound Storm Laboratories          null   \n4    2024-02-04  B0C2YQ9BJ1                  Redragon         41.99   \n..          ...         ...                       ...           ...   \n995  2023-09-11  B0076SIH04          Rockford Fosgate        209.99   \n996  2023-08-23  B002L5WCLM              StarTech.com         17.99   \n997  2024-01-16  B07XBWHR56                SUPERNIGHT         15.99   \n998  2024-01-15  B017JIHJIG                  Verbatim            12   \n999  2023-08-25  B08CY3GPL4                    YFFIZQ         59.99   \n\n    final_price  reviews_count  images_count  \\\n0         13.99            234             7   \n1         15.99           1576             1   \n2        219.99           1998             1   \n3       $335.99            324             5   \n4         39.99           8219             1   \n..          ...            ...           ...   \n995      189.99            100             1   \n996       13.89            419             1   \n997       15.99           1227             1   \n998        6.97           1374             1   \n999       49.99           1589             1   \n\n                                                 title  \\\n0    SHNITPWR 12V 6A AC DC Power Supply Adapter Con...   \n1    Fintie Silicone Case for All-New Fire HD 10 an...   \n2    Nixplay 10.1 inch Touch Screen Digital Picture...   \n3    Sound Storm Laboratories SDML10ACP Single Din ...   \n4    Redragon GS520 RGB Desktop Speakers, 2.0 Chann...   \n..                                                 ...   \n995  Rockford Fosgate P3SD2-10 Punch P3S 10\" 2-Ohm ...   \n996  StarTech.com 7ft CAT6a Ethernet Cable - 10 Gig...   \n997  DC 12V Step Up to 24V 3A Boost Converter 72W D...   \n998  Verbatim 16GB Metal Executive USB Flash Drive ...   \n999  YFFIZQ 80GB MP3 Player with Bluetooth 5.1,2.8'...   \n\n                                                   url  video_count  rating  \\\n0    https://www.amazon.com/SHNITPWR-Converter-100V...            0     4.4   \n1    https://www.amazon.com/Fintie-Silicone-All-New...            0     4.7   \n2    https://www.amazon.com/Nixplay-Digital-W10K-Po...            0     4.6   \n3    https://www.amazon.com/dp/B093F837T9?language=...            1     4.1   \n4    https://www.amazon.com/Redragon-GS520-Speakers...            0     4.4   \n..                                                 ...          ...     ...   \n995  https://www.amazon.com/Rockford-Fosgate-P3SD2-...            0     4.2   \n996  https://www.amazon.com/StarTech-com-Cat6a-Ethe...            0     4.7   \n997  https://www.amazon.com/24V-Boost-Converter-Reg...            0     4.5   \n998  https://www.amazon.com/Verbatim-Metal-Executiv...            0     4.6   \n999  https://www.amazon.com/Bluetooth-Portable-Spea...            0     3.8   \n\n                                            categories  \n0            Electronics,Power Accessories,AC Adapters  \n1    Electronics,Computers & Accessories,Tablet Acc...  \n2    Electronics,Camera & Photo,Lighting & Studio,P...  \n3    Electronics,Car & Vehicle Electronics,Car Elec...  \n4    Electronics,Computers & Accessories,Computer A...  \n..                                                 ...  \n995  Electronics,Car & Vehicle Electronics,Car Elec...  \n996  Electronics,Computers & Accessories,Computer A...  \n997     Electronics,Power Accessories,Power Converters  \n998  Electronics,Computers & Accessories,Data Stora...  \n999  Electronics,Portable Audio & Video,MP3 & MP4 P...  \n\n[1000 rows x 12 columns]",
      "text/html": "<div>\n<style scoped>\n    .dataframe tbody tr th:only-of-type {\n        vertical-align: middle;\n    }\n\n    .dataframe tbody tr th {\n        vertical-align: top;\n    }\n\n    .dataframe thead th {\n        text-align: right;\n    }\n</style>\n<table border=\"1\" class=\"dataframe\">\n  <thead>\n    <tr style=\"text-align: right;\">\n      <th></th>\n      <th>timestamp</th>\n      <th>asin</th>\n      <th>brand</th>\n      <th>initial_price</th>\n      <th>final_price</th>\n      <th>reviews_count</th>\n      <th>images_count</th>\n      <th>title</th>\n      <th>url</th>\n      <th>video_count</th>\n      <th>rating</th>\n      <th>categories</th>\n    </tr>\n  </thead>\n  <tbody>\n    <tr>\n      <th>0</th>\n      <td>2023-08-03</td>\n      <td>B07RGHBLGC</td>\n      <td>SHNITPWR</td>\n      <td>23.99</td>\n      <td>13.99</td>\n      <td>234</td>\n      <td>7</td>\n      <td>SHNITPWR 12V 6A AC DC Power Supply Adapter Con...</td>\n      <td>https://www.amazon.com/SHNITPWR-Converter-100V...</td>\n      <td>0</td>\n      <td>4.4</td>\n      <td>Electronics,Power Accessories,AC Adapters</td>\n    </tr>\n    <tr>\n      <th>1</th>\n      <td>2023-08-15</td>\n      <td>B09871LZYT</td>\n      <td>FINTIE</td>\n      <td>32.99</td>\n      <td>15.99</td>\n      <td>1576</td>\n      <td>1</td>\n      <td>Fintie Silicone Case for All-New Fire HD 10 an...</td>\n      <td>https://www.amazon.com/Fintie-Silicone-All-New...</td>\n      <td>0</td>\n      <td>4.7</td>\n      <td>Electronics,Computers &amp; Accessories,Tablet Acc...</td>\n    </tr>\n    <tr>\n      <th>2</th>\n      <td>2023-08-16</td>\n      <td>B09W9BXT9Z</td>\n      <td>Nixplay</td>\n      <td>219.99</td>\n      <td>219.99</td>\n      <td>1998</td>\n      <td>1</td>\n      <td>Nixplay 10.1 inch Touch Screen Digital Picture...</td>\n      <td>https://www.amazon.com/Nixplay-Digital-W10K-Po...</td>\n      <td>0</td>\n      <td>4.6</td>\n      <td>Electronics,Camera &amp; Photo,Lighting &amp; Studio,P...</td>\n    </tr>\n    <tr>\n      <th>3</th>\n      <td>2022-10-13</td>\n      <td>B093F837T9</td>\n      <td>Sound Storm Laboratories</td>\n      <td>null</td>\n      <td>$335.99</td>\n      <td>324</td>\n      <td>5</td>\n      <td>Sound Storm Laboratories SDML10ACP Single Din ...</td>\n      <td>https://www.amazon.com/dp/B093F837T9?language=...</td>\n      <td>1</td>\n      <td>4.1</td>\n      <td>Electronics,Car &amp; Vehicle Electronics,Car Elec...</td>\n    </tr>\n    <tr>\n      <th>4</th>\n      <td>2024-02-04</td>\n      <td>B0C2YQ9BJ1</td>\n      <td>Redragon</td>\n      <td>41.99</td>\n      <td>39.99</td>\n      <td>8219</td>\n      <td>1</td>\n      <td>Redragon GS520 RGB Desktop Speakers, 2.0 Chann...</td>\n      <td>https://www.amazon.com/Redragon-GS520-Speakers...</td>\n      <td>0</td>\n      <td>4.4</td>\n      <td>Electronics,Computers &amp; Accessories,Computer A...</td>\n    </tr>\n    <tr>\n      <th>...</th>\n      <td>...</td>\n      <td>...</td>\n      <td>...</td>\n      <td>...</td>\n      <td>...</td>\n      <td>...</td>\n      <td>...</td>\n      <td>...</td>\n      <td>...</td>\n      <td>...</td>\n      <td>...</td>\n      <td>...</td>\n    </tr>\n    <tr>\n      <th>995</th>\n      <td>2023-09-11</td>\n      <td>B0076SIH04</td>\n      <td>Rockford Fosgate</td>\n      <td>209.99</td>\n      <td>189.99</td>\n      <td>100</td>\n      <td>1</td>\n      <td>Rockford Fosgate P3SD2-10 Punch P3S 10\" 2-Ohm ...</td>\n      <td>https://www.amazon.com/Rockford-Fosgate-P3SD2-...</td>\n      <td>0</td>\n      <td>4.2</td>\n      <td>Electronics,Car &amp; Vehicle Electronics,Car Elec...</td>\n    </tr>\n    <tr>\n      <th>996</th>\n      <td>2023-08-23</td>\n      <td>B002L5WCLM</td>\n      <td>StarTech.com</td>\n      <td>17.99</td>\n      <td>13.89</td>\n      <td>419</td>\n      <td>1</td>\n      <td>StarTech.com 7ft CAT6a Ethernet Cable - 10 Gig...</td>\n      <td>https://www.amazon.com/StarTech-com-Cat6a-Ethe...</td>\n      <td>0</td>\n      <td>4.7</td>\n      <td>Electronics,Computers &amp; Accessories,Computer A...</td>\n    </tr>\n    <tr>\n      <th>997</th>\n      <td>2024-01-16</td>\n      <td>B07XBWHR56</td>\n      <td>SUPERNIGHT</td>\n      <td>15.99</td>\n      <td>15.99</td>\n      <td>1227</td>\n      <td>1</td>\n      <td>DC 12V Step Up to 24V 3A Boost Converter 72W D...</td>\n      <td>https://www.amazon.com/24V-Boost-Converter-Reg...</td>\n      <td>0</td>\n      <td>4.5</td>\n      <td>Electronics,Power Accessories,Power Converters</td>\n    </tr>\n    <tr>\n      <th>998</th>\n      <td>2024-01-15</td>\n      <td>B017JIHJIG</td>\n      <td>Verbatim</td>\n      <td>12</td>\n      <td>6.97</td>\n      <td>1374</td>\n      <td>1</td>\n      <td>Verbatim 16GB Metal Executive USB Flash Drive ...</td>\n      <td>https://www.amazon.com/Verbatim-Metal-Executiv...</td>\n      <td>0</td>\n      <td>4.6</td>\n      <td>Electronics,Computers &amp; Accessories,Data Stora...</td>\n    </tr>\n    <tr>\n      <th>999</th>\n      <td>2023-08-25</td>\n      <td>B08CY3GPL4</td>\n      <td>YFFIZQ</td>\n      <td>59.99</td>\n      <td>49.99</td>\n      <td>1589</td>\n      <td>1</td>\n      <td>YFFIZQ 80GB MP3 Player with Bluetooth 5.1,2.8'...</td>\n      <td>https://www.amazon.com/Bluetooth-Portable-Spea...</td>\n      <td>0</td>\n      <td>3.8</td>\n      <td>Electronics,Portable Audio &amp; Video,MP3 &amp; MP4 P...</td>\n    </tr>\n  </tbody>\n</table>\n<p>1000 rows × 12 columns</p>\n</div>"
     },
     "execution_count": 111,
     "metadata": {},
     "output_type": "execute_result"
    }
   ],
   "source": [
    "df.limit(1000).toPandas()"
   ],
   "metadata": {
    "collapsed": false,
    "ExecuteTime": {
     "end_time": "2024-02-17T00:48:02.365718500Z",
     "start_time": "2024-02-17T00:48:02.260766800Z"
    }
   },
   "id": "b090a871cd2d203",
   "execution_count": 111
  },
  {
   "cell_type": "markdown",
   "source": [
    "### Quantos valores null temos no DataFrame?"
   ],
   "metadata": {
    "collapsed": false
   },
   "id": "14fc81e461fe887a"
  },
  {
   "cell_type": "code",
   "outputs": [
    {
     "data": {
      "text/plain": "   timestamp  asin  brand  initial_price  final_price  reviews_count  \\\n0          0     0      0            304            0              0   \n\n   images_count  title  url  video_count  rating  categories  \n0             0      0    0            0       0           0  ",
      "text/html": "<div>\n<style scoped>\n    .dataframe tbody tr th:only-of-type {\n        vertical-align: middle;\n    }\n\n    .dataframe tbody tr th {\n        vertical-align: top;\n    }\n\n    .dataframe thead th {\n        text-align: right;\n    }\n</style>\n<table border=\"1\" class=\"dataframe\">\n  <thead>\n    <tr style=\"text-align: right;\">\n      <th></th>\n      <th>timestamp</th>\n      <th>asin</th>\n      <th>brand</th>\n      <th>initial_price</th>\n      <th>final_price</th>\n      <th>reviews_count</th>\n      <th>images_count</th>\n      <th>title</th>\n      <th>url</th>\n      <th>video_count</th>\n      <th>rating</th>\n      <th>categories</th>\n    </tr>\n  </thead>\n  <tbody>\n    <tr>\n      <th>0</th>\n      <td>0</td>\n      <td>0</td>\n      <td>0</td>\n      <td>304</td>\n      <td>0</td>\n      <td>0</td>\n      <td>0</td>\n      <td>0</td>\n      <td>0</td>\n      <td>0</td>\n      <td>0</td>\n      <td>0</td>\n    </tr>\n  </tbody>\n</table>\n</div>"
     },
     "execution_count": 116,
     "metadata": {},
     "output_type": "execute_result"
    }
   ],
   "source": [
    "null_counts = df.select([count(when(col(c).isNull() | col(c).isin('null','Null','NULL','NaN', 'NAN', ' ',''), c)).alias(c) for c in df.columns])\n",
    "\n",
    "null_counts.toPandas()"
   ],
   "metadata": {
    "collapsed": false,
    "ExecuteTime": {
     "end_time": "2024-02-17T00:49:00.418145900Z",
     "start_time": "2024-02-17T00:48:59.890484300Z"
    }
   },
   "id": "eb42dfdacdb69c00",
   "execution_count": 116
  },
  {
   "cell_type": "code",
   "outputs": [],
   "source": [],
   "metadata": {
    "collapsed": false
   },
   "id": "cfe427021d0924d8"
  }
 ],
 "metadata": {
  "kernelspec": {
   "display_name": "Python 3",
   "language": "python",
   "name": "python3"
  },
  "language_info": {
   "codemirror_mode": {
    "name": "ipython",
    "version": 2
   },
   "file_extension": ".py",
   "mimetype": "text/x-python",
   "name": "python",
   "nbconvert_exporter": "python",
   "pygments_lexer": "ipython2",
   "version": "2.7.6"
  }
 },
 "nbformat": 4,
 "nbformat_minor": 5
}
