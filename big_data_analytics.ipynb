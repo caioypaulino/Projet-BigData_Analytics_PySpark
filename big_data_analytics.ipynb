{
 "cells": [
  {
   "cell_type": "code",
   "outputs": [],
   "source": [
    "# importando bibliotecas\n",
    "import time\n",
    "import pandas as pd\n",
    "import matplotlib.pyplot as plt\n",
    "import seaborn as sns\n",
    "import matplotlib.ticker as ticker\n",
    "\n",
    "from pyspark.sql import SparkSession\n",
    "from pyspark.sql.types import StructType, StructField, StringType, DoubleType, IntegerType, DateType\n",
    "from pyspark.sql.functions import col, sum, countDistinct, count, regexp_replace, split, month, year, size, element_at, struct, trim, avg, expr, lit\n",
    "from pyspark.sql import functions as F\n",
    "from pyspark.sql.window import Window"
   ],
   "metadata": {
    "collapsed": false
   },
   "id": "93f09866d2aa681d"
  },
  {
   "cell_type": "code",
   "outputs": [],
   "source": [
    "# Create SparkSession\n",
    "spark = (SparkSession.builder\n",
    "         .appName(\"AmazonElectronics\")\n",
    "         .getOrCreate())"
   ],
   "metadata": {
    "collapsed": false
   },
   "id": "9c467bc275e2ace8"
  },
  {
   "cell_type": "code",
   "outputs": [],
   "source": [
    "StructField(\"timestamp\", DateType(), True),\n",
    "StructField(\"asin\", StringType(), True),\n",
    "StructField(\"brand\", StringType(), True),\n",
    "StructField(\"buybox_seller\", StringType(), True),\n",
    "StructField(\"final_price\", StringType(), True),\n",
    "StructField(\"number_of_sellers\", IntegerType(), True),\n",
    "StructField(\"root_bs_rank\", IntegerType(), True),\n",
    "StructField(\"reviews_count\", IntegerType(), True),\n",
    "StructField(\"ISBN10\", StringType(), True),\n",
    "StructField(\"currency\", StringType(), True),\n",
    "StructField(\"image_url\", StringType(), True),\n",
    "StructField(\"images_count\", IntegerType(), True),\n",
    "StructField(\"title\", StringType(), True),\n",
    "StructField(\"url\", StringType(), True),\n",
    "StructField(\"video_count\", IntegerType(), True),\n",
    "StructField(\"categories\", StringType(), True),\n",
    "StructField(\"item_weight\", StringType(), True),\n",
    "StructField(\"rating\", DoubleType(), True),\n",
    "StructField(\"top_review\", StringType(), True),\n",
    "StructField(\"seller_id\", StringType(), True),\n",
    "StructField(\"availability\", StringType(), True),\n",
    "StructField(\"product_dimensions\", StringType(), True),\n",
    "StructField(\"discount\", StringType(), True),\n",
    "StructField(\"initial_price\", StringType(), True),\n",
    "StructField(\"description\", StringType(), True),\n",
    "StructField(\"image\", StringType(), True),\n",
    "StructField(\"answered_questions\", IntegerType(), True),\n",
    "StructField(\"date_first_available\", StringType(), True),\n",
    "StructField(\"model_number\", StringType(), True),\n",
    "StructField(\"manufacturer\", StringType(), True),\n",
    "StructField(\"department\", StringType(), True),\n",
    "StructField(\"plus_content\", StringType(), True),\n",
    "StructField(\"upc\", StringType(), True),\n",
    "StructField(\"video\", StringType(), True),"
   ],
   "metadata": {
    "collapsed": true
   },
   "id": "initial_id",
   "execution_count": 0
  }
 ],
 "metadata": {
  "kernelspec": {
   "display_name": "Python 3",
   "language": "python",
   "name": "python3"
  },
  "language_info": {
   "codemirror_mode": {
    "name": "ipython",
    "version": 2
   },
   "file_extension": ".py",
   "mimetype": "text/x-python",
   "name": "python",
   "nbconvert_exporter": "python",
   "pygments_lexer": "ipython2",
   "version": "2.7.6"
  }
 },
 "nbformat": 4,
 "nbformat_minor": 5
}
